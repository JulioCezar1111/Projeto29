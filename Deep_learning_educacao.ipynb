{
  "nbformat": 4,
  "nbformat_minor": 0,
  "metadata": {
    "colab": {
      "name": "Deep_learning_educacao.ipynb",
      "provenance": [],
      "collapsed_sections": [
        "ngcX6OOgv--_"
      ],
      "mount_file_id": "1d60k1f_NoFYsUA8JApONP3hN464ilM7X",
      "authorship_tag": "ABX9TyMt9yZGp+Oc8atrnLogl53N",
      "include_colab_link": true
    },
    "kernelspec": {
      "name": "python3",
      "display_name": "Python 3"
    },
    "language_info": {
      "name": "python"
    }
  },
  "cells": [
    {
      "cell_type": "markdown",
      "metadata": {
        "id": "view-in-github",
        "colab_type": "text"
      },
      "source": [
        "<a href=\"https://colab.research.google.com/github/JulioCezar1111/Projeto29/blob/main/Deep_learning_educacao.ipynb\" target=\"_parent\"><img src=\"https://colab.research.google.com/assets/colab-badge.svg\" alt=\"Open In Colab\"/></a>"
      ]
    },
    {
      "cell_type": "markdown",
      "source": [
        "## **Prever o abandono ou o sucesso acadêmico**"
      ],
      "metadata": {
        "id": "l5wmZP62l-61"
      }
    },
    {
      "cell_type": "markdown",
      "source": [
        "# **Importar as bibliotecas**"
      ],
      "metadata": {
        "id": "L_c1q1KAchmS"
      }
    },
    {
      "cell_type": "code",
      "source": [
        "import numpy as np\n",
        "import pandas as pd\n",
        "import tensorflow as tf # para redes neurais\n",
        "import sklearn as sk"
      ],
      "metadata": {
        "id": "EAr1gFJscnRr"
      },
      "execution_count": 3,
      "outputs": []
    },
    {
      "cell_type": "markdown",
      "source": [
        "# **Importar para dataframe(pandas)**"
      ],
      "metadata": {
        "id": "oMOh8Ft0c2Tq"
      }
    },
    {
      "cell_type": "code",
      "source": [
        "df = pd.read_csv('/content/drive/MyDrive/Dropout_Academic Success - Sheet1.csv')\n",
        "\n",
        "\n",
        "\n",
        "print(df.Target.unique()) # informa as opçoes na coluna\n",
        "\n",
        "from sklearn.preprocessing import LabelEncoder # converter categoria em numero\n",
        "\n",
        "cols = ['Target'] #unique pra descobrir quantos rótulos unicos\n",
        "le = LabelEncoder()\n",
        "df[cols] = df[cols].apply(le.fit_transform) # fit_transform aprende e transforma\n",
        "\n",
        "df.head(10)"
      ],
      "metadata": {
        "id": "ddECg2eHc-3_"
      },
      "execution_count": null,
      "outputs": []
    },
    {
      "cell_type": "markdown",
      "source": [
        "**Maritial status:** Estado civil\n",
        "\n",
        "**Application mode:** Modo de aplicativo\n",
        "\n",
        "**Application order:** Pedido de inscrição\n",
        "\n",
        "**Course:** Curso\n",
        "\n",
        "**Daytime/evening attendance:** Perido"
      ],
      "metadata": {
        "id": "ltMutIQBm9sY"
      }
    },
    {
      "cell_type": "markdown",
      "source": [
        "# **Tratar dataframe**"
      ],
      "metadata": {
        "id": "hQD854mupmb3"
      }
    },
    {
      "cell_type": "code",
      "source": [
        "df.info()"
      ],
      "metadata": {
        "id": "to74l-j5ps7n"
      },
      "execution_count": null,
      "outputs": []
    },
    {
      "cell_type": "markdown",
      "source": [
        "# **Separar dataframe em variveis independentes(X e y)**"
      ],
      "metadata": {
        "id": "wz18PiPkqk1I"
      }
    },
    {
      "cell_type": "code",
      "source": [
        "y = df['Target']\n",
        "X = df.drop('Target', axis = 1)\n",
        "\n",
        "display(X)"
      ],
      "metadata": {
        "id": "wlwvNfVsqtH6"
      },
      "execution_count": null,
      "outputs": []
    },
    {
      "cell_type": "markdown",
      "source": [
        "# **Dividar dataframe de treino e teste**"
      ],
      "metadata": {
        "id": "ngcX6OOgv--_"
      }
    },
    {
      "cell_type": "code",
      "source": [
        "from sklearn.model_selection import train_test_split # para dividir o dataframe\n",
        "\n",
        "X_train, X_test, y_train, y_test = train_test_split(X, y, test_size = 0.2)"
      ],
      "metadata": {
        "id": "yJc6FeLDwuYE"
      },
      "execution_count": 7,
      "outputs": []
    },
    {
      "cell_type": "markdown",
      "source": [
        "# **Normalizar os dados**"
      ],
      "metadata": {
        "id": "1nn2LvD-xB6a"
      }
    },
    {
      "cell_type": "code",
      "source": [
        "from sklearn.preprocessing import StandardScaler\n",
        "\n",
        "sc = StandardScaler()\n",
        "X_train = sc.fit_transform(X_train)\n",
        "X_test = sc.transform(X_test)\n",
        "\n",
        "X_train"
      ],
      "metadata": {
        "id": "b7AhQUg4xFQu"
      },
      "execution_count": null,
      "outputs": []
    },
    {
      "cell_type": "markdown",
      "source": [
        "# **Arquitetura da Rede Neural(MLP)**"
      ],
      "metadata": {
        "id": "yauAH3BDxf3f"
      }
    },
    {
      "cell_type": "markdown",
      "source": [
        "**Bibliotecas**"
      ],
      "metadata": {
        "id": "5fncqE-hxlw0"
      }
    },
    {
      "cell_type": "code",
      "source": [
        "from sklearn.model_selection import GridSearchCV # Auxiliar para achar os melhores parametros\n",
        "from keras.models import Sequential\n",
        "from keras.layers import Dense\n",
        "from keras.wrappers.scikit_learn import KerasClassifier # Para fazer a comunicação entre keras e gridsearch \n",
        "from tensorflow.keras.layers import Dropout, BatchNormalization"
      ],
      "metadata": {
        "id": "lU5SmJzvxpl4"
      },
      "execution_count": 97,
      "outputs": []
    },
    {
      "cell_type": "markdown",
      "source": [
        "**Metodo da arquitetura da Rede Neural**"
      ],
      "metadata": {
        "id": "dv9rQv_rxzPx"
      }
    },
    {
      "cell_type": "code",
      "source": [
        "from keras.backend import dropout\n",
        "def create_model(optimizer='Adam'):\n",
        "\n",
        "    ann = Sequential()\n",
        "    ann.add(Dense(units = 32, activation='relu', kernel_initializer='he_normal'))\n",
        "    ann.add(BatchNormalization())\n",
        "\n",
        "    ann.add(Dense(units = 64, activation='relu', kernel_initializer='he_normal'))\n",
        "    ann.add(BatchNormalization())\n",
        "\n",
        "    ann.add(Dense(units = 128, activation='relu', kernel_initializer='he_normal'))\n",
        "    ann.add(BatchNormalization())\n",
        "\n",
        "    ann.add(Dense(units = 255, activation='relu', kernel_initializer='he_normal'))\n",
        "    ann.add(BatchNormalization())\n",
        "    ann.add(Dropout(0.5))\n",
        "\n",
        "    ann.add(Dense(units = 3, activation='softmax'))\n",
        "\n",
        "    ann.compile(optimizer=optimizer, \n",
        "                loss='sparse_categorical_crossentropy', \n",
        "                metrics=['accuracy'])\n",
        "    \n",
        "    return ann"
      ],
      "metadata": {
        "id": "YfovFFEnx5oH"
      },
      "execution_count": 123,
      "outputs": []
    },
    {
      "cell_type": "code",
      "source": [
        "model = KerasClassifier(build_fn=create_model, verbose = 2 )"
      ],
      "metadata": {
        "colab": {
          "base_uri": "https://localhost:8080/"
        },
        "id": "dOYnxEpQ2Zjn",
        "outputId": "a18dcbef-ef10-4277-c9e5-bc656032428c"
      },
      "execution_count": 124,
      "outputs": [
        {
          "output_type": "stream",
          "name": "stderr",
          "text": [
            "/usr/local/lib/python3.7/dist-packages/ipykernel_launcher.py:1: DeprecationWarning: KerasClassifier is deprecated, use Sci-Keras (https://github.com/adriangb/scikeras) instead. See https://www.adriangb.com/scikeras/stable/migration.html for help migrating.\n",
            "  \"\"\"Entry point for launching an IPython kernel.\n"
          ]
        }
      ]
    },
    {
      "cell_type": "markdown",
      "source": [
        "**define the grid search parameters part 1**"
      ],
      "metadata": {
        "id": "oWGNImbo3BvS"
      }
    },
    {
      "cell_type": "code",
      "source": [
        "optimizer = ['Adam']\n",
        "batch_size = [16, 32]\n",
        "epochs = [30, 50, 70]\n",
        "param_grid = dict(optimizer=optimizer, batch_size=batch_size, epochs=epochs)\n",
        "\n",
        "grid = GridSearchCV(estimator=model, param_grid=param_grid, n_jobs=None, cv=5)\n",
        "grid_result = grid.fit(X_train, y_train)"
      ],
      "metadata": {
        "id": "Gn-_Ik1A3XCD"
      },
      "execution_count": null,
      "outputs": []
    },
    {
      "cell_type": "markdown",
      "source": [
        "**Parametros**"
      ],
      "metadata": {
        "id": "9bchRAklEkHX"
      }
    },
    {
      "cell_type": "code",
      "source": [
        "batch_size = grid_result.best_params_['batch_size']\n",
        "epochs = grid_result.best_params_['epochs']\n",
        "optimizer = grid_result.best_params_['optimizer']\n",
        "\n",
        "print(batch_size, epochs, optimizer)"
      ],
      "metadata": {
        "colab": {
          "base_uri": "https://localhost:8080/"
        },
        "id": "4tTDsb6YDHuo",
        "outputId": "221978cf-fe99-4fd4-c1b1-edbaaef2b3b9"
      },
      "execution_count": 112,
      "outputs": [
        {
          "output_type": "stream",
          "name": "stdout",
          "text": [
            "32 30 Adam\n"
          ]
        }
      ]
    },
    {
      "cell_type": "markdown",
      "source": [
        "**Metodo da rede neural otimizador**"
      ],
      "metadata": {
        "id": "nA-q2xF45P21"
      }
    },
    {
      "cell_type": "code",
      "source": [
        "def create_model_Adam(n1 = 8, n2 = 16, n3= 32, learn_rate = 0.01):\n",
        "\n",
        "    ann = Sequential()\n",
        "    ann.add(Dense(units = n1, activation='relu', kernel_initializer='he_normal'))\n",
        "    ann.add(BatchNormalization())\n",
        "\n",
        "    ann.add(Dense(units = n2, activation='relu', kernel_initializer='he_normal'))\n",
        "    ann.add(BatchNormalization())\n",
        "\n",
        "    ann.add(Dense(units = n3, activation='relu', kernel_initializer='he_normal'))\n",
        "    ann.add(BatchNormalization())\n",
        "    ann.add(Dropout(0.5))\n",
        "\n",
        "    ann.add(Dense(units = 3, activation='softmax'))\n",
        "\n",
        "    optimizer = tf.keras.optimizers.Adam(learning_rate = learn_rate)\n",
        "\n",
        "    ann.compile(optimizer=optimizer, \n",
        "                loss='sparse_categorical_crossentropy', \n",
        "                metrics=['accuracy'])\n",
        "    \n",
        "    return ann"
      ],
      "metadata": {
        "id": "-nrNedxU5TqD"
      },
      "execution_count": 79,
      "outputs": []
    },
    {
      "cell_type": "code",
      "source": [
        "model = KerasClassifier(build_fn = create_model_Adam, epochs = epochs, batch_size = batch_size, verbose = 2)"
      ],
      "metadata": {
        "colab": {
          "base_uri": "https://localhost:8080/"
        },
        "id": "u0yxIzFJ653B",
        "outputId": "ac725fc5-bf8c-41c7-e39f-523d1097010c"
      },
      "execution_count": 80,
      "outputs": [
        {
          "output_type": "stream",
          "name": "stderr",
          "text": [
            "/usr/local/lib/python3.7/dist-packages/ipykernel_launcher.py:1: DeprecationWarning: KerasClassifier is deprecated, use Sci-Keras (https://github.com/adriangb/scikeras) instead. See https://www.adriangb.com/scikeras/stable/migration.html for help migrating.\n",
            "  \"\"\"Entry point for launching an IPython kernel.\n"
          ]
        }
      ]
    },
    {
      "cell_type": "markdown",
      "source": [
        "**Grid search part2**"
      ],
      "metadata": {
        "id": "6f423zQlUqeB"
      }
    },
    {
      "cell_type": "code",
      "source": [
        "learn_rate = [0.001, 0.01, 0.1]\n",
        "n1 = [8, 16]\n",
        "n2 = [16, 32]\n",
        "n3 = [32, 64]\n",
        "\n",
        "param_grid = dict(n1 = n1, n2 = n2, n3 = n3, learn_rate = learn_rate)\n",
        "\n",
        "grid = GridSearchCV(estimator = model, param_grid = param_grid, n_jobs = None, cv = 5)\n",
        "grid_result = grid.fit(X_train, y_train)"
      ],
      "metadata": {
        "id": "jUdlTi6nVCkG"
      },
      "execution_count": null,
      "outputs": []
    },
    {
      "cell_type": "markdown",
      "source": [
        "# **Resultado**"
      ],
      "metadata": {
        "id": "XARQYB4nJPN1"
      }
    },
    {
      "cell_type": "code",
      "source": [
        "print(\"Best: %f using %s\" % (grid_result.best_score_, grid_result.best_params_))\n",
        "\n",
        "means = grid_result.cv_results_['mean_test_score']\n",
        "stds = grid_result.cv_results_['std_test_score']\n",
        "params = grid_result.cv_results_['params']\n",
        "\n",
        "for mean, stdev, param in zip(means, stds, params):\n",
        "    print(\"%f (%f) with: %r\" % (mean, stdev, param))"
      ],
      "metadata": {
        "colab": {
          "base_uri": "https://localhost:8080/"
        },
        "id": "H5unTSRXJVb5",
        "outputId": "09c56d73-eec1-4218-f92a-f16956426655"
      },
      "execution_count": 113,
      "outputs": [
        {
          "output_type": "stream",
          "name": "stdout",
          "text": [
            "Best: 0.736645 using {'batch_size': 32, 'epochs': 30, 'optimizer': 'Adam'}\n",
            "0.736645 (0.010224) with: {'batch_size': 32, 'epochs': 30, 'optimizer': 'Adam'}\n"
          ]
        }
      ]
    },
    {
      "cell_type": "markdown",
      "source": [
        "# **Testar Modelo**"
      ],
      "metadata": {
        "id": "pE5m2f7JhbTV"
      }
    },
    {
      "cell_type": "code",
      "source": [
        "y_pred = grid_result.predict(X_test)\n",
        "\n"
      ],
      "metadata": {
        "id": "AWn-Dl9hhhIh"
      },
      "execution_count": 114,
      "outputs": []
    },
    {
      "cell_type": "code",
      "source": [
        "from sklearn.metrics import confusion_matrix, accuracy_score\n",
        "\n",
        "cm = confusion_matrix(y_test, y_pred) \n",
        "#vn, fp(rede disse que é 1, mas é 0), fn (rede disse que é 0, mas é 1), vp\n",
        "cm"
      ],
      "metadata": {
        "colab": {
          "base_uri": "https://localhost:8080/"
        },
        "id": "68HD4iFviK9L",
        "outputId": "de72e1f9-f503-4575-f935-c43113783903"
      },
      "execution_count": 115,
      "outputs": [
        {
          "output_type": "execute_result",
          "data": {
            "text/plain": [
              "array([[196,  40,  39],\n",
              "       [ 49,  55,  54],\n",
              "       [ 10,  33, 409]])"
            ]
          },
          "metadata": {},
          "execution_count": 115
        }
      ]
    },
    {
      "cell_type": "code",
      "source": [
        "from sklearn.metrics import accuracy_score, classification_report\n",
        "\n",
        "print('Acurácia da Rede: ', accuracy_score(y_test, y_pred).round(2))\n",
        "print(classification_report(y_test, y_pred))"
      ],
      "metadata": {
        "id": "_xGV0eaqi6ar"
      },
      "execution_count": null,
      "outputs": []
    }
  ]
}